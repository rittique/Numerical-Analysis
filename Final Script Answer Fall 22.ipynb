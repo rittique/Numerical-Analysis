{
 "cells": [
  {
   "cell_type": "code",
   "execution_count": 4,
   "id": "13497a80",
   "metadata": {},
   "outputs": [
    {
     "name": "stdout",
     "output_type": "stream",
     "text": [
      "The 1 iteration xn is 5.2e+01 and f(xn) is 1.4e+17\n",
      "The 2 iteration xn is 4.6e+01 and f(xn) is 4.7e+16\n",
      "The 3 iteration xn is 4.2e+01 and f(xn) is 1.6e+16\n",
      "The 4 iteration xn is 3.8e+01 and f(xn) is 5.7e+15\n",
      "The 5 iteration xn is 3.4e+01 and f(xn) is 2e+15\n"
     ]
    },
    {
     "name": "stderr",
     "output_type": "stream",
     "text": [
      "C:\\Users\\Administrator\\AppData\\Local\\Temp\\ipykernel_8696\\573434841.py:18: DeprecationWarning: `np.float` is a deprecated alias for the builtin `float`. To silence this warning, use `float` by itself. Doing this will not modify any behavior and is safe. If you specifically wanted the numpy scalar type, use `np.float64` here.\n",
      "Deprecated in NumPy 1.20; for more details and guidance: https://numpy.org/devdocs/release/1.20.0-notes.html#deprecations\n",
      "  xn = xn - np.float(f.evalf(subs= {x:xn})) / np.float(fderivative.evalf(subs= {x:xn}))\n",
      "C:\\Users\\Administrator\\AppData\\Local\\Temp\\ipykernel_8696\\573434841.py:19: DeprecationWarning: `np.float` is a deprecated alias for the builtin `float`. To silence this warning, use `float` by itself. Doing this will not modify any behavior and is safe. If you specifically wanted the numpy scalar type, use `np.float64` here.\n",
      "Deprecated in NumPy 1.20; for more details and guidance: https://numpy.org/devdocs/release/1.20.0-notes.html#deprecations\n",
      "  print(f'The {i+1} iteration xn is {xn:.2} and f(xn) is {np.float(f.evalf(subs= {x:xn})):.2}')\n"
     ]
    }
   ],
   "source": [
    "# Newton Raphson Method\n",
    "\n",
    "import numpy as np\n",
    "from sympy import *\n",
    "# define what is the variable\n",
    "x = symbols('x')\n",
    "# define the function\n",
    "f = x**10-1\n",
    "# find the first derivative\n",
    "fderivative = f.diff(x)\n",
    "\n",
    "# get a valua of the derivate for a specific x\n",
    "# let's say f'(0)\n",
    "fderivative.evalf(subs= {x:0})\n",
    "\n",
    "xn = 0.5\n",
    "for i in range(5):\n",
    "    xn = xn - np.float(f.evalf(subs= {x:xn})) / np.float(fderivative.evalf(subs= {x:xn}))\n",
    "    print(f'The {i+1} iteration xn is {xn:.2} and f(xn) is {np.float(f.evalf(subs= {x:xn})):.2}')\n"
   ]
  },
  {
   "cell_type": "code",
   "execution_count": 6,
   "id": "cdde1012",
   "metadata": {},
   "outputs": [
    {
     "name": "stdout",
     "output_type": "stream",
     "text": [
      "Enter First Guess: 0\n",
      "Enter Second Guess: 1\n",
      "Tolerable Error: 0.000000001\n",
      "Maximum Step: 20\n",
      "\n",
      "\n",
      "*** SECANT METHOD IMPLEMENTATION ***\n",
      "Iteration-1, x2 = 0.250000 and f(x2) = -0.234375\n",
      "Iteration-2, x2 = 0.186441 and f(x2) = 0.074277\n",
      "Iteration-3, x2 = 0.201736 and f(x2) = -0.000471\n",
      "Iteration-4, x2 = 0.201640 and f(x2) = -0.000001\n",
      "Iteration-5, x2 = 0.201640 and f(x2) = 0.000000\n",
      "\n",
      " Required root is: 0.20163968\n"
     ]
    }
   ],
   "source": [
    "# Secant Method \n",
    "\n",
    "# Defining Function\n",
    "def f(x):\n",
    "    return x**3 - 5*x + 1\n",
    "\n",
    "# Implementing Secant Method\n",
    "\n",
    "def secant(x0,x1,e,N):\n",
    "    print('\\n\\n*** SECANT METHOD IMPLEMENTATION ***')\n",
    "    step = 1\n",
    "    condition = True\n",
    "    while condition:\n",
    "        if f(x0) == f(x1):\n",
    "            print('Divide by zero error!')\n",
    "            break\n",
    "        \n",
    "        x2 = x0 - (x1-x0)*f(x0)/( f(x1) - f(x0) ) \n",
    "        print('Iteration-%d, x2 = %0.6f and f(x2) = %0.6f' % (step, x2, f(x2)))\n",
    "        x0 = x1\n",
    "        x1 = x2\n",
    "        step = step + 1\n",
    "        \n",
    "        if step > N:\n",
    "            print('Not Convergent!')\n",
    "            break\n",
    "        \n",
    "        condition = abs(f(x2)) > e\n",
    "    print('\\n Required root is: %0.8f' % x2)\n",
    "\n",
    "\n",
    "# Input Section\n",
    "x0 = input('Enter First Guess: ')\n",
    "x1 = input('Enter Second Guess: ')\n",
    "e = input('Tolerable Error: ')\n",
    "N = input('Maximum Step: ')\n",
    "\n",
    "# Converting x0 and e to float\n",
    "x0 = float(x0)\n",
    "x1 = float(x1)\n",
    "e = float(e)\n",
    "\n",
    "# Converting N to integer\n",
    "N = int(N)\n",
    "\n",
    "\n",
    "#Note: You can combine above three section like this\n",
    "# x0 = float(input('Enter First Guess: '))\n",
    "# x1 = float(input('Enter Second Guess: '))\n",
    "# e = float(input('Tolerable Error: '))\n",
    "# N = int(input('Maximum Step: '))\n",
    "\n",
    "# Starting Secant Method\n",
    "secant(x0,x1,e,N)\n"
   ]
  },
  {
   "cell_type": "code",
   "execution_count": 9,
   "id": "5b560c67",
   "metadata": {},
   "outputs": [
    {
     "name": "stdout",
     "output_type": "stream",
     "text": [
      "Equation 1:\n",
      "Eq(x + y + z, 2)\n",
      "Equation 2\n",
      "Eq(x + 2*y + 3*z, 5)\n",
      "Equation 3\n",
      "Eq(x + 2*y + 3*z, 5)\n",
      "Values of 3 unknown variable are as follows:\n",
      "[]\n"
     ]
    }
   ],
   "source": [
    "# Naive Gaussian\n",
    "\n",
    "\n",
    "# importing library sympy\n",
    "from sympy import symbols, Eq, solve\n",
    "  \n",
    "# defining symbols used in equations\n",
    "# or unknown variables\n",
    "x, y, z = symbols('x,y,z')\n",
    "  \n",
    "# defining equations\n",
    "eq1 = Eq((x+y+z), 2)\n",
    "print(\"Equation 1:\")\n",
    "print(eq1)\n",
    "  \n",
    "eq2 = Eq((x+2*y+3*z), 5)\n",
    "print(\"Equation 2\")\n",
    "print(eq2)\n",
    "  \n",
    "eq3 = Eq((2*x+3*y+4*z), 11)\n",
    "print(\"Equation 3\")\n",
    "print(eq2)\n",
    "  \n",
    "# solving the equation and printing the \n",
    "# value of unknown variables\n",
    "print(\"Values of 3 unknown variable are as follows:\")\n",
    "print(solve((eq1, eq2, eq3), (x, y, z)))"
   ]
  },
  {
   "cell_type": "code",
   "execution_count": 10,
   "id": "777a3715",
   "metadata": {},
   "outputs": [
    {
     "name": "stdout",
     "output_type": "stream",
     "text": [
      "Equation 1:\n",
      "Eq(x + y + z, 1)\n",
      "Equation 2\n",
      "Eq(3*x + y - 3*z, 5)\n",
      "Equation 3\n",
      "Eq(3*x + y - 3*z, 5)\n",
      "Values of 3 unknown variable are as follows:\n",
      "{x: 6, y: -7, z: 2}\n"
     ]
    }
   ],
   "source": [
    "# Naive Gaussian\n",
    "\n",
    "\n",
    "# importing library sympy\n",
    "from sympy import symbols, Eq, solve\n",
    "  \n",
    "# defining symbols used in equations\n",
    "# or unknown variables\n",
    "x, y, z = symbols('x,y,z')\n",
    "  \n",
    "# defining equations\n",
    "eq1 = Eq((x+y+z), 1)\n",
    "print(\"Equation 1:\")\n",
    "print(eq1)\n",
    "  \n",
    "eq2 = Eq((3*x+y-3*z), 5)\n",
    "print(\"Equation 2\")\n",
    "print(eq2)\n",
    "  \n",
    "eq3 = Eq((x-2*y-5*z), 10)\n",
    "print(\"Equation 3\")\n",
    "print(eq2)\n",
    "  \n",
    "# solving the equation and printing the \n",
    "# value of unknown variables\n",
    "print(\"Values of 3 unknown variable are as follows:\")\n",
    "print(solve((eq1, eq2, eq3), (x, y, z)))"
   ]
  },
  {
   "cell_type": "code",
   "execution_count": null,
   "id": "1b5f7340",
   "metadata": {},
   "outputs": [],
   "source": []
  }
 ],
 "metadata": {
  "kernelspec": {
   "display_name": "Python 3 (ipykernel)",
   "language": "python",
   "name": "python3"
  },
  "language_info": {
   "codemirror_mode": {
    "name": "ipython",
    "version": 3
   },
   "file_extension": ".py",
   "mimetype": "text/x-python",
   "name": "python",
   "nbconvert_exporter": "python",
   "pygments_lexer": "ipython3",
   "version": "3.9.12"
  }
 },
 "nbformat": 4,
 "nbformat_minor": 5
}
